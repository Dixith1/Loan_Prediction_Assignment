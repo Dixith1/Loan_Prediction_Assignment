{
 "cells": [
  {
   "cell_type": "code",
   "execution_count": null,
   "metadata": {
    "colab": {
     "base_uri": "https://localhost:8080/",
     "height": 34
    },
    "id": "buda3SPEALNZ",
    "outputId": "060732c9-d4e9-4b8c-e108-a67c0dbd86cd"
   },
   "outputs": [],
   "source": [
    "getwd()"
   ]
  },
  {
   "cell_type": "code",
   "execution_count": null,
   "metadata": {
    "colab": {
     "base_uri": "https://localhost:8080/"
    },
    "id": "aW1kZb_qAW7Z",
    "outputId": "48ad71b7-e338-4769-dedc-e4bfece88486"
   },
   "outputs": [],
   "source": [
    "dir.create(\"LoanDefaultAnalysis_R\")"
   ]
  },
  {
   "cell_type": "code",
   "execution_count": null,
   "metadata": {
    "id": "ZXzAkZjv4rN6"
   },
   "outputs": [],
   "source": [
    "wd = \"/content/LoanDefaultAnalysis_R\""
   ]
  },
  {
   "cell_type": "code",
   "execution_count": null,
   "metadata": {
    "colab": {
     "base_uri": "https://localhost:8080/",
     "height": 1000
    },
    "id": "qyiZE-qU4tcg",
    "outputId": "5a26a09a-6974-4800-db79-fe0862c3f72a"
   },
   "outputs": [],
   "source": [
    "str(allPackage <- installed.packages(.Library, priority = \"high\"))\n",
    "allPackage [, c(1,3:5)]"
   ]
  },
  {
   "cell_type": "code",
   "execution_count": null,
   "metadata": {
    "colab": {
     "base_uri": "https://localhost:8080/"
    },
    "id": "WUfjib9l4zpg",
    "outputId": "a07367f3-3034-44a1-83cd-9770b39cd4fe"
   },
   "outputs": [],
   "source": [
    "install.packages(\"DataExplorer\")\n",
    "install.packages(\"readxl\")"
   ]
  },
  {
   "cell_type": "code",
   "execution_count": null,
   "metadata": {
    "id": "SgJ5wNAc42D1"
   },
   "outputs": [],
   "source": [
    "url <- \"https://raw.githubusercontent.com/lemoinef/Loan-Default-Prediction/master/loans_2007.csv\""
   ]
  },
  {
   "cell_type": "code",
   "execution_count": null,
   "metadata": {
    "id": "_g5aIRwD50Sk"
   },
   "outputs": [],
   "source": [
    "raw_data <- read.csv(url)"
   ]
  },
  {
   "cell_type": "code",
   "execution_count": null,
   "metadata": {
    "colab": {
     "base_uri": "https://localhost:8080/",
     "height": 362
    },
    "id": "RL_xKNDa52as",
    "outputId": "a3711f9b-2aae-40e3-cebd-faad4eef21f2"
   },
   "outputs": [],
   "source": [
    "head(raw_data,5)"
   ]
  },
  {
   "cell_type": "code",
   "execution_count": null,
   "metadata": {
    "id": "0mqPfFix54j7"
   },
   "outputs": [],
   "source": [
    "write.csv(raw_data,\"raw_loan_default.csv\")"
   ]
  },
  {
   "cell_type": "code",
   "execution_count": null,
   "metadata": {
    "colab": {
     "base_uri": "https://localhost:8080/"
    },
    "id": "3mIEKm8258FM",
    "outputId": "16b1f2c6-504d-4904-9c2c-7a42bd9c4e07"
   },
   "outputs": [],
   "source": [
    "str(raw_data)"
   ]
  },
  {
   "cell_type": "code",
   "execution_count": null,
   "metadata": {
    "id": "d4OTAYOB6BRx"
   },
   "outputs": [],
   "source": [
    "library(readxl)"
   ]
  },
  {
   "cell_type": "code",
   "execution_count": null,
   "metadata": {
    "colab": {
     "base_uri": "https://localhost:8080/",
     "height": 165
    },
    "id": "JfaVYkmu7Fgb",
    "outputId": "f72c4adc-61af-47f8-fadc-8fe28f2b6d14"
   },
   "outputs": [],
   "source": [
    "data<- read_excel(\"c:\\\\content\\\\LoanDefaultAnalysis_R\\\\LCDataDictionary.xlsx\")"
   ]
  },
  {
   "cell_type": "code",
   "execution_count": null,
   "metadata": {
    "colab": {
     "base_uri": "https://localhost:8080/",
     "height": 1000
    },
    "id": "BfWBFWE68kZk",
    "outputId": "57f5faa6-7db8-4b1c-887e-510fea23bcca"
   },
   "outputs": [],
   "source": [
    "data"
   ]
  },
  {
   "cell_type": "code",
   "execution_count": null,
   "metadata": {
    "colab": {
     "base_uri": "https://localhost:8080/",
     "height": 34
    },
    "id": "yOdlvjjO8v_Y",
    "outputId": "0aec58b4-710b-4cd0-ffde-1f619f540fb6"
   },
   "outputs": [],
   "source": [
    "dim(raw_data)"
   ]
  },
  {
   "cell_type": "code",
   "execution_count": null,
   "metadata": {
    "colab": {
     "base_uri": "https://localhost:8080/"
    },
    "id": "zFOxyodk_DJ0",
    "outputId": "31ec213f-47ec-41a6-c159-425c668b150d"
   },
   "outputs": [],
   "source": [
    "library(dplyr)"
   ]
  },
  {
   "cell_type": "code",
   "execution_count": null,
   "metadata": {
    "id": "vdupsWJY_J6V"
   },
   "outputs": [],
   "source": [
    "features_1st_13_set <- c('id','member_id','loan_amnt','funded_amnt','funded_amnt_inv','term',\n",
    "                         'int_rate','installment','grade','sub_grade','emp_title','emp_length','home_ownership')"
   ]
  },
  {
   "cell_type": "code",
   "execution_count": null,
   "metadata": {
    "colab": {
     "base_uri": "https://localhost:8080/",
     "height": 165
    },
    "id": "dGsgHlL2_TwS",
    "outputId": "412352a7-b567-45a5-a78f-6afb6912f08f"
   },
   "outputs": [],
   "source": [
    "subset(data, LoanStatNew %in% features_1st_13_set)"
   ]
  },
  {
   "cell_type": "code",
   "execution_count": null,
   "metadata": {
    "colab": {
     "base_uri": "https://localhost:8080/",
     "height": 324
    },
    "id": "6zY1bnGB_gsA",
    "outputId": "81b49ff3-8b42-4b16-f98a-d3c6fb00ae9f"
   },
   "outputs": [],
   "source": [
    "raw_data %>% \n",
    "  select(features_1st_13_set) %>% \n",
    "  head(5)"
   ]
  },
  {
   "cell_type": "code",
   "execution_count": null,
   "metadata": {
    "id": "pGf5rDb-_mfS"
   },
   "outputs": [],
   "source": [
    "## drop columns which does not provide any meaningful interpetation.\n",
    "drop_col_1st_set <- c('id', 'member_id', 'funded_amnt', 'funded_amnt_inv', 'grade', 'sub_grade', 'emp_title')"
   ]
  },
  {
   "cell_type": "code",
   "execution_count": null,
   "metadata": {
    "colab": {
     "base_uri": "https://localhost:8080/",
     "height": 165
    },
    "id": "cjTJdrts_uXR",
    "outputId": "da1093ec-504f-4516-9813-be777faf9ed7"
   },
   "outputs": [],
   "source": [
    "features_2nd_13_set <- c('annual_inc','verification_status','issue_d','loan_status','pymnt_plan','purpose',\n",
    "             'title','zip_code','addr_state','dti','delinq_2yrs','earliest_cr_line', 'inq_last_6mths')\n",
    "\n",
    "subset(data, LoanStatNew %in% features_2nd_13_set)"
   ]
  },
  {
   "cell_type": "code",
   "execution_count": null,
   "metadata": {
    "colab": {
     "base_uri": "https://localhost:8080/",
     "height": 324
    },
    "id": "Eq9n5mRW_4qe",
    "outputId": "c4c1799b-3c7c-40b8-fb3e-ad3fce974c9d"
   },
   "outputs": [],
   "source": [
    "raw_data %>% \n",
    "  select(features_2nd_13_set) %>% \n",
    "  head(5)"
   ]
  },
  {
   "cell_type": "code",
   "execution_count": null,
   "metadata": {
    "id": "_Z5-E9jQAAJu"
   },
   "outputs": [],
   "source": [
    "## drop columns which does not provide any meaningful interpetation.\n",
    "drop_col_2nd_set <- c('issue_d','zip_code')"
   ]
  },
  {
   "cell_type": "code",
   "execution_count": null,
   "metadata": {
    "colab": {
     "base_uri": "https://localhost:8080/",
     "height": 165
    },
    "id": "Y4OhDGWMAs_N",
    "outputId": "fe301162-23b5-4ad8-88a8-7e286cc19c7e"
   },
   "outputs": [],
   "source": [
    "features_3rd_13_set <- c('open_acc', 'pub_rec', 'revol_bal','revol_util','total_acc', 'initial_list_status','out_prncp',\n",
    "                         'out_prncp_inv','total_pymnt','total_pymnt_inv','total_rec_prncp','total_rec_int', 'total_rec_late_fee')\n",
    "subset(data, LoanStatNew %in% features_3rd_13_set)"
   ]
  },
  {
   "cell_type": "code",
   "execution_count": null,
   "metadata": {
    "colab": {
     "base_uri": "https://localhost:8080/",
     "height": 324
    },
    "id": "y3YoMLH7BLOZ",
    "outputId": "33e37e7e-edd6-401e-e8e5-ef36593c5a02"
   },
   "outputs": [],
   "source": [
    "raw_data %>% \n",
    "  select(features_3rd_13_set) %>% \n",
    "  head(5)"
   ]
  },
  {
   "cell_type": "code",
   "execution_count": null,
   "metadata": {
    "id": "HsDb20m9BNcv"
   },
   "outputs": [],
   "source": [
    "## drop columns which does not provide any meaningful interpetation.\n",
    "drop_col_3rd_set <- c('out_prncp', 'out_prncp_inv', 'total_pymnt', 'total_pymnt_inv','total_rec_prncp', 'total_rec_int', 'total_rec_late_fee')"
   ]
  },
  {
   "cell_type": "code",
   "execution_count": null,
   "metadata": {
    "colab": {
     "base_uri": "https://localhost:8080/",
     "height": 165
    },
    "id": "R_WEmVIrBUKy",
    "outputId": "34c44c6b-c0fd-4f11-89c8-068f398f1b25"
   },
   "outputs": [],
   "source": [
    "features_4th_13_set <- c('recoveries','collection_recovery_fee', 'last_pymnt_d', 'last_pymnt_amnt','last_credit_pull_d',\n",
    "                         'collections_12_mths_ex_med','policy_code','application_type','acc_now_delinq','chargeoff_within_12_mths',\n",
    "                         'delinq_amnt','pub_rec_bankruptcies','tax_liens')\n",
    "subset(data, LoanStatNew %in% features_4th_13_set)"
   ]
  },
  {
   "cell_type": "code",
   "execution_count": null,
   "metadata": {
    "colab": {
     "base_uri": "https://localhost:8080/",
     "height": 344
    },
    "id": "sDUAkyn9BWPk",
    "outputId": "c337c366-5cee-41f8-c90e-f1cae6397979"
   },
   "outputs": [],
   "source": [
    "raw_data %>% \n",
    "  select(features_4th_13_set) %>% \n",
    "  head(5)"
   ]
  },
  {
   "cell_type": "code",
   "execution_count": null,
   "metadata": {
    "id": "OKDhXeAgBXzL"
   },
   "outputs": [],
   "source": [
    "## drop columns which does not provide any meaningful interpetation.\n",
    "drop_col_4th_set <- c('recoveries', 'collection_recovery_fee', 'last_pymnt_d', 'last_pymnt_amnt')"
   ]
  },
  {
   "cell_type": "code",
   "execution_count": null,
   "metadata": {
    "id": "mdeICrL7BsYR"
   },
   "outputs": [],
   "source": [
    "columns_to_drop <- c(drop_col_1st_set,drop_col_2nd_set,drop_col_3rd_set,drop_col_4th_set)"
   ]
  },
  {
   "cell_type": "code",
   "execution_count": null,
   "metadata": {
    "colab": {
     "base_uri": "https://localhost:8080/",
     "height": 52
    },
    "id": "P0B4_oX0BwkN",
    "outputId": "4513dd4c-3be8-4077-ec3e-1a8513046d7d"
   },
   "outputs": [],
   "source": [
    "columns_to_drop"
   ]
  },
  {
   "cell_type": "code",
   "execution_count": null,
   "metadata": {
    "colab": {
     "base_uri": "https://localhost:8080/"
    },
    "id": "IFKOPkD5ByRw",
    "outputId": "d8a884a0-11a5-4c7c-e082-fe81f7860990"
   },
   "outputs": [],
   "source": [
    "filtered_data <- raw_data %>% \n",
    "  select(select = -c(drop_col_1st_set,drop_col_2nd_set,drop_col_3rd_set,drop_col_4th_set))"
   ]
  },
  {
   "cell_type": "code",
   "execution_count": null,
   "metadata": {
    "colab": {
     "base_uri": "https://localhost:8080/",
     "height": 362
    },
    "id": "fvwhJImfB5wl",
    "outputId": "0afde694-302c-4d45-9741-1f1e6fbce948"
   },
   "outputs": [],
   "source": [
    " filtered_data %>% head(5)"
   ]
  },
  {
   "cell_type": "code",
   "execution_count": null,
   "metadata": {
    "colab": {
     "base_uri": "https://localhost:8080/"
    },
    "id": "exm9uqs1B9p9",
    "outputId": "18235ef9-08c1-459a-dc40-48a58b91a8e1"
   },
   "outputs": [],
   "source": [
    "str(filtered_data)"
   ]
  },
  {
   "cell_type": "code",
   "execution_count": null,
   "metadata": {
    "colab": {
     "base_uri": "https://localhost:8080/",
     "height": 34
    },
    "id": "EFUc_fMVCOXc",
    "outputId": "d0ba364d-dc01-4941-97e8-9f2e32722266"
   },
   "outputs": [],
   "source": [
    "dim(filtered_data)"
   ]
  },
  {
   "cell_type": "code",
   "execution_count": null,
   "metadata": {
    "id": "0NVk79YnCTGK"
   },
   "outputs": [],
   "source": [
    "write.csv(filtered_data,\"filtered_loan_default.csv\")"
   ]
  },
  {
   "cell_type": "code",
   "execution_count": null,
   "metadata": {
    "colab": {
     "base_uri": "https://localhost:8080/",
     "height": 806
    },
    "id": "R2RsIWHZCzL3",
    "outputId": "c67ceb58-5fac-4080-ee2a-fba5eeaf5bd9"
   },
   "outputs": [],
   "source": [
    "    filtered_data %>%  \n",
    "  count(loan_status,sort = TRUE)\n",
    "\n",
    "filtered_data %>% \n",
    "    group_by(loan_status) %>%\n",
    "    summarize(count = n()) %>%\n",
    "    arrange(desc(count))"
   ]
  },
  {
   "cell_type": "code",
   "execution_count": null,
   "metadata": {
    "id": "eSM98qHUDRDo"
   },
   "outputs": [],
   "source": [
    "library(ggplot2)"
   ]
  },
  {
   "cell_type": "code",
   "execution_count": null,
   "metadata": {
    "colab": {
     "base_uri": "https://localhost:8080/"
    },
    "id": "TPuD1xxYDZ1a",
    "outputId": "1c94d7c8-30da-4044-a10b-a90b2d361ccd"
   },
   "outputs": [],
   "source": [
    "install.packages(\"forcats\")"
   ]
  },
  {
   "cell_type": "code",
   "execution_count": null,
   "metadata": {
    "id": "kXkgt9cQETbr"
   },
   "outputs": [],
   "source": [
    "library(forcats)"
   ]
  },
  {
   "cell_type": "code",
   "execution_count": null,
   "metadata": {
    "colab": {
     "base_uri": "https://localhost:8080/",
     "height": 617
    },
    "id": "tZZVYeoFEm_8",
    "outputId": "6d640aa8-3a39-4173-b723-27e092ace514"
   },
   "outputs": [],
   "source": [
    "options(repr.plot.width=15, repr.plot.height=10)\n",
    "\n",
    "ggplot(filtered_data,aes(x=fct_infreq(loan_status)))+\n",
    "  geom_bar(position=\"dodge\")+ \n",
    "  labs(title=\"Vertical Bar Plot of the Loan Status\", x=\"Loan Status\", y = \"Frequency\")+\n",
    "  geom_text(aes(label=..count..),stat='count',position=position_dodge(0.9),vjust=-0.2) +\n",
    "  theme(axis.text.x = element_text(angle = 270, vjust = 0.5),text = element_text(size = 14))"
   ]
  },
  {
   "cell_type": "code",
   "execution_count": null,
   "metadata": {
    "colab": {
     "base_uri": "https://localhost:8080/",
     "height": 617
    },
    "id": "odCndgZ0Eqcy",
    "outputId": "765e2519-c1d9-4a88-8f86-623556389915"
   },
   "outputs": [],
   "source": [
    "# Make plots wider \n",
    "options(repr.plot.width=15, repr.plot.height=10)\n",
    "\n",
    "ggplot(filtered_data,aes(x=fct_rev(fct_infreq(loan_status))))+\n",
    "  geom_bar(position=\"dodge\")+ \n",
    "  labs(title=\"Vertical Bar Plot of the Loan Status\", x=\"Loan Status\", y = \"Frequency\")+\n",
    "  geom_text(aes(label=..count..),stat='count',position=position_dodge(0.9),vjust=-0.2) +\n",
    "  theme(axis.text.x = element_text(angle = 270, vjust = 0.5),text = element_text(size = 14))"
   ]
  },
  {
   "cell_type": "code",
   "execution_count": null,
   "metadata": {
    "id": "tlQ84jCRE5W1"
   },
   "outputs": [],
   "source": [
    "df <- filtered_data %>% \n",
    "    filter(loan_status %in% c(\"Fully Paid\", \"Charged Off\"))"
   ]
  },
  {
   "cell_type": "code",
   "execution_count": null,
   "metadata": {
    "id": "FybkEhZzE_fk"
   },
   "outputs": [],
   "source": [
    "write.csv(df,\"loan_data.csv\")"
   ]
  },
  {
   "cell_type": "code",
   "execution_count": null,
   "metadata": {
    "colab": {
     "base_uri": "https://localhost:8080/",
     "height": 617
    },
    "id": "NUnDXyNwFBv-",
    "outputId": "8fde3f41-010f-49da-b127-c8a5b2305017"
   },
   "outputs": [],
   "source": [
    "# Make plots wider \n",
    "options(repr.plot.width=15, repr.plot.height=10)\n",
    "\n",
    "ggplot(df,aes(x=fct_infreq(loan_status)))+\n",
    "  geom_bar(position=\"dodge\")+ \n",
    "  labs(title=\"Vertical Bar Plot of the Loan Status\", x=\"Loan Status\", y = \"Frequency\")+\n",
    "  geom_text(aes(label=..count..),stat='count',position=position_dodge(0.9),vjust=-0.2) +\n",
    "  theme(axis.text.x = element_text(angle = 270, vjust = 0.5),text = element_text(size = 14))"
   ]
  },
  {
   "cell_type": "code",
   "execution_count": null,
   "metadata": {
    "colab": {
     "base_uri": "https://localhost:8080/"
    },
    "id": "wxDBPCZ4FE8X",
    "outputId": "b4eba0b4-2958-4b4d-e3ac-2a7c97512e12"
   },
   "outputs": [],
   "source": [
    "library(DataExplorer)\n",
    "library(tidyr)\n",
    "library(magrittr)"
   ]
  },
  {
   "cell_type": "code",
   "execution_count": null,
   "metadata": {
    "colab": {
     "base_uri": "https://localhost:8080/"
    },
    "id": "t80Lhw67FR6g",
    "outputId": "6dbea988-eda6-41cd-873d-fb5660763163"
   },
   "outputs": [],
   "source": [
    "df %>% \n",
    "      create_report(\n",
    "        output_file = \"loan_default_profile_report\",\n",
    "        output_dir  =  ,\n",
    "        y= \"loan_status\",\n",
    "        report_title = \"EDA Report - Loan Default Analysis\"\n",
    "      )"
   ]
  },
  {
   "cell_type": "code",
   "execution_count": null,
   "metadata": {
    "colab": {
     "base_uri": "https://localhost:8080/"
    },
    "id": "rOk4IapQFYKx",
    "outputId": "bdb160b5-50b3-490f-a7f3-df3cb67ea6c0"
   },
   "outputs": [],
   "source": [
    "install.packages(\"skimr\")"
   ]
  },
  {
   "cell_type": "code",
   "execution_count": null,
   "metadata": {
    "id": "b_JOdCN5FtEV"
   },
   "outputs": [],
   "source": [
    "library(skimr)"
   ]
  },
  {
   "cell_type": "code",
   "execution_count": null,
   "metadata": {
    "colab": {
     "base_uri": "https://localhost:8080/",
     "height": 1000
    },
    "id": "H_mGXpjYFwq6",
    "outputId": "64c72ad5-2673-40cc-ef4a-37e84b6d8459"
   },
   "outputs": [],
   "source": [
    "df %>% skim()\n",
    "\n",
    "single_value_columns <- df %>%\n",
    "  select_if(function(col) length(unique(col))==1)\n",
    "\n",
    "names(single_value_columns)\n",
    "\n",
    "c('pymnt_plan',\n",
    "  'initial_list_status',\n",
    "  'collections_12_mths_ex_med',\n",
    "  'policy_code',\n",
    "  'application_type',\n",
    "  'acc_now_delinq',\n",
    "  'chargeoff_within_12_mths',\n",
    "  'delinq_amnt',\n",
    "  'tax_liens')\n",
    "subset(df, select = c('pymnt_plan',\n",
    "                      'initial_list_status',\n",
    "                      'collections_12_mths_ex_med',\n",
    "                      'policy_code',\n",
    "                      'application_type',\n",
    "                      'acc_now_delinq',\n",
    "                      'chargeoff_within_12_mths',\n",
    "                      'delinq_amnt',\n",
    "                      'tax_liens')) "
   ]
  },
  {
   "cell_type": "code",
   "execution_count": null,
   "metadata": {
    "id": "bUk4JXBFF5ZE"
   },
   "outputs": [],
   "source": [
    "df <- df %>% \n",
    "  select(select = -c('pymnt_plan',\n",
    "                     'initial_list_status',\n",
    "                     'collections_12_mths_ex_med',\n",
    "                     'policy_code',\n",
    "                     'application_type',\n",
    "                     'acc_now_delinq',\n",
    "                     'chargeoff_within_12_mths',\n",
    "                     'delinq_amnt',\n",
    "                     'tax_liens'))"
   ]
  },
  {
   "cell_type": "code",
   "execution_count": null,
   "metadata": {
    "colab": {
     "base_uri": "https://localhost:8080/",
     "height": 34
    },
    "id": "87V5M5EWGCxK",
    "outputId": "db267e0e-89eb-404e-bdcb-8d536094d2bd"
   },
   "outputs": [],
   "source": [
    "dim(df)"
   ]
  },
  {
   "cell_type": "code",
   "execution_count": null,
   "metadata": {
    "colab": {
     "base_uri": "https://localhost:8080/",
     "height": 69
    },
    "id": "M_13DbtXGFk5",
    "outputId": "4d482dbf-9762-4f59-e15b-2ba57df5e482"
   },
   "outputs": [],
   "source": [
    "colSums(is.na(df))"
   ]
  },
  {
   "cell_type": "code",
   "execution_count": null,
   "metadata": {
    "colab": {
     "base_uri": "https://localhost:8080/",
     "height": 819
    },
    "id": "E-mST-dQGKMJ",
    "outputId": "f88af6cc-417b-45fb-fcad-24e7870423d0"
   },
   "outputs": [],
   "source": [
    "null_count <- sapply(df, function(x) sum(is.na(x)))\n",
    "data.frame(null_count)\n",
    "df <- df %>% \n",
    "  select(select = -c('pub_rec_bankruptcies'))"
   ]
  },
  {
   "cell_type": "code",
   "execution_count": null,
   "metadata": {
    "colab": {
     "base_uri": "https://localhost:8080/",
     "height": 1000
    },
    "id": "diyaIUN4GMbp",
    "outputId": "5748d359-48f1-42e1-dd7b-6271f8f46d6c"
   },
   "outputs": [],
   "source": [
    "sapply(df, class)\n",
    "df <- df %>% \n",
    "  select(select = -c('pub_rec_bankruptcies'))\n",
    "table(sapply(df, class))\n",
    "df <- df %>% mutate_if(is.character, as.factor) \n",
    "col_names <- df %>% \n",
    "  select_if(is.character) %>% \n",
    "  names()\n",
    "df %>%  \n",
    "  count(int_rate,sort = TRUE)"
   ]
  },
  {
   "cell_type": "code",
   "execution_count": null,
   "metadata": {
    "id": "3kkWF0X5HKuU"
   },
   "outputs": [],
   "source": [
    "df <- df %>% mutate(int_rate = as.numeric(gsub(\"%\", \"\", int_rate)))"
   ]
  },
  {
   "cell_type": "code",
   "execution_count": null,
   "metadata": {
    "colab": {
     "base_uri": "https://localhost:8080/",
     "height": 1000
    },
    "id": "mdjywD7SH4fs",
    "outputId": "2b7c8e52-2dc0-4f53-b3af-a931e14fd6cc"
   },
   "outputs": [],
   "source": [
    "df %>%  \n",
    "  count(revol_util,sort = TRUE)"
   ]
  },
  {
   "cell_type": "code",
   "execution_count": null,
   "metadata": {
    "colab": {
     "base_uri": "https://localhost:8080/",
     "height": 1000
    },
    "id": "FZYFP-76H7hN",
    "outputId": "70794fc5-c745-48da-95cf-a66ce94073b0"
   },
   "outputs": [],
   "source": [
    "df <- df %>% mutate(revol_util = as.numeric(gsub(\"%\", \"\", revol_util)))\n",
    "df\n",
    "df %>%  \n",
    "  count(term,sort = TRUE)\n",
    "loan_term.map <- c(\" 36 months\"= 36,\n",
    "                   \" 60 months\"= 60) \n",
    "df$term <- loan_term.map[as.character(df$term)]"
   ]
  },
  {
   "cell_type": "code",
   "execution_count": null,
   "metadata": {
    "colab": {
     "base_uri": "https://localhost:8080/",
     "height": 156
    },
    "id": "j_ONf98AH_hC",
    "outputId": "73f70817-550f-4958-8e13-6d25e28033ab"
   },
   "outputs": [],
   "source": [
    "df$term"
   ]
  },
  {
   "cell_type": "code",
   "execution_count": null,
   "metadata": {
    "colab": {
     "base_uri": "https://localhost:8080/",
     "height": 148
    },
    "id": "AFmbcV4zIBLs",
    "outputId": "bb30dd81-0b57-441a-d52b-aa25c41232f8"
   },
   "outputs": [],
   "source": [
    "mapping_dict = {\n",
    "  \"emp_length\":{\n",
    "    \"10+ years\": 10,\n",
    "    \"9 years\": 9,\n",
    "    \"8 years\": 8,\n",
    "    \"7 years\": 7,\n",
    "    \"6 years\": 6,\n",
    "    \"5 years\": 5,\n",
    "    \"4 years\": 4,\n",
    "    \"3 years\": 3,\n",
    "    \"2 years\": 2,\n",
    "    \"1 year\": 1,\n",
    "    \"< 1 year\": 0,\n",
    "    \"n/a\": 0\n",
    "  }\n",
    "}"
   ]
  },
  {
   "cell_type": "code",
   "execution_count": null,
   "metadata": {
    "colab": {
     "base_uri": "https://localhost:8080/",
     "height": 474
    },
    "id": "0zPQWSVcIDGD",
    "outputId": "f2670e52-9dd6-4b50-c74b-73291401f198"
   },
   "outputs": [],
   "source": [
    "df %>%  \n",
    "  count(emp_length,sort = TRUE)\n",
    "empployement_duraion.map <- c(\"10+ years\"= 10,\n",
    "                              \"9 years\"= 9,\n",
    "                              \"8 years\"= 8,\n",
    "                              \"7 years\"= 7,\n",
    "                              \"6 years\"= 6,\n",
    "                              \"5 years\"= 5,\n",
    "                              \"4 years\"= 4,\n",
    "                              \"3 years\"= 3,\n",
    "                              \"2 years\"= 2,\n",
    "                              \"1 year\"= 1,\n",
    "                              \"< 1 year\"= 0,\n",
    "                              \"n/a\"= 0)    \n",
    "df$emp_length <- empployement_duraion.map[as.character(df$emp_length)]"
   ]
  },
  {
   "cell_type": "code",
   "execution_count": null,
   "metadata": {
    "colab": {
     "base_uri": "https://localhost:8080/",
     "height": 1000
    },
    "id": "5Je15kW8IMJm",
    "outputId": "d4c61b4e-b508-40d7-e414-b7ff46bd3c9b"
   },
   "outputs": [],
   "source": [
    "df %>%  \n",
    "  count(home_ownership,sort = TRUE)\n",
    "df %>%  \n",
    "  count(verification_status,sort = TRUE)\n",
    "install.packages(\"caret\")\n",
    "library(caret)\n",
    "df %>%  \n",
    "  count(purpose,sort = TRUE)"
   ]
  },
  {
   "cell_type": "code",
   "execution_count": null,
   "metadata": {
    "colab": {
     "base_uri": "https://localhost:8080/",
     "height": 1000
    },
    "id": "H7u5ZXOhIsW6",
    "outputId": "0a3c921b-a849-4caf-e245-2d5afe44b80f"
   },
   "outputs": [],
   "source": [
    "df %>%  \n",
    "  count(title,sort = TRUE)"
   ]
  },
  {
   "cell_type": "code",
   "execution_count": null,
   "metadata": {
    "colab": {
     "base_uri": "https://localhost:8080/",
     "height": 652
    },
    "id": "k-117VzBJfSD",
    "outputId": "7baa6f9a-27bb-41a5-bc6d-f38df621d013"
   },
   "outputs": [],
   "source": [
    "ggplot(df,aes(x=loan_amnt))+\n",
    "  geom_histogram()+\n",
    "  labs(title=\"Distribution of Loan Amount\",\n",
    "       x=\"Loan Amount\")"
   ]
  },
  {
   "cell_type": "code",
   "execution_count": null,
   "metadata": {
    "colab": {
     "base_uri": "https://localhost:8080/",
     "height": 652
    },
    "id": "lSaDwIdAJkAA",
    "outputId": "c2b69127-4080-436d-8d67-f1e2dbeb12e2"
   },
   "outputs": [],
   "source": [
    "ggplot(df,aes(x=loan_amnt))+\n",
    "  geom_histogram()+\n",
    "  labs(title=\"Distribution of Loan Amount\",\n",
    "       x=\"Loan Amount\")"
   ]
  },
  {
   "cell_type": "code",
   "execution_count": null,
   "metadata": {
    "colab": {
     "base_uri": "https://localhost:8080/",
     "height": 652
    },
    "id": "KPvFd0E2Jmkw",
    "outputId": "27295bcd-d113-424b-9392-da25e74bdd94"
   },
   "outputs": [],
   "source": [
    "ggplot(df,aes(x=int_rate))+\n",
    "  geom_histogram()+\n",
    "  labs(title=\"Distribution of Rate of Interest\",\n",
    "       x=\"Rate of Interest\")"
   ]
  },
  {
   "cell_type": "code",
   "execution_count": null,
   "metadata": {
    "colab": {
     "base_uri": "https://localhost:8080/",
     "height": 652
    },
    "id": "DxTkCO07JoKy",
    "outputId": "ab160eab-06d3-4406-c66e-61207591112d"
   },
   "outputs": [],
   "source": [
    "ggplot(df,aes(x=installment))+\n",
    "  geom_histogram()+\n",
    "  labs(title=\"Distribution of Installment\",\n",
    "       x=\"Installment\")"
   ]
  },
  {
   "cell_type": "code",
   "execution_count": null,
   "metadata": {
    "colab": {
     "base_uri": "https://localhost:8080/",
     "height": 652
    },
    "id": "eUVI4or1Jpss",
    "outputId": "c191263c-e076-41d9-f5d3-4c0fc6be40b1"
   },
   "outputs": [],
   "source": [
    "ggplot(df,aes(x=emp_length))+\n",
    "  geom_histogram()+\n",
    "  labs(title=\"Distribution of Employee Length\",\n",
    "       x=\"Employee Lenght\")"
   ]
  },
  {
   "cell_type": "code",
   "execution_count": null,
   "metadata": {
    "colab": {
     "base_uri": "https://localhost:8080/",
     "height": 652
    },
    "id": "fier2-BzJrK2",
    "outputId": "941537eb-b450-46a5-fba4-8307219d8118"
   },
   "outputs": [],
   "source": [
    "ggplot(df,aes(x=annual_inc))+\n",
    "  geom_histogram()+\n",
    "  labs(title=\"Distribution of Annual Income of Customers\",\n",
    "       x=\"Annual Income Of Customers\")"
   ]
  },
  {
   "cell_type": "code",
   "execution_count": null,
   "metadata": {
    "colab": {
     "base_uri": "https://localhost:8080/",
     "height": 617
    },
    "id": "Rw_8B4csJ1s6",
    "outputId": "6378c3f6-e957-4c71-df10-dacb9cbb3bfb"
   },
   "outputs": [],
   "source": [
    "ggplot(df,aes(x=annual_inc))+\n",
    "  geom_histogram(fill = \"cornflowerblue\", \n",
    "                 color = \"white\", \n",
    "                 bins = 20) + \n",
    "  labs(title=\"Distribution of Annual Income of Customers\",\n",
    "       subtitle = \"number of bins = 20\",\n",
    "       x=\"Annual Income Of Customers\")"
   ]
  },
  {
   "cell_type": "code",
   "execution_count": null,
   "metadata": {
    "colab": {
     "base_uri": "https://localhost:8080/",
     "height": 617
    },
    "id": "e3r8uqs-J4lc",
    "outputId": "62adb65f-8c5f-4793-c777-7afc5eff6794"
   },
   "outputs": [],
   "source": [
    "ggplot(df,aes(x=revol_bal))+\n",
    "  geom_density(fill = \"indianred3\") +\n",
    "  labs(title = \"Revolving Balance\")"
   ]
  },
  {
   "cell_type": "code",
   "execution_count": null,
   "metadata": {
    "colab": {
     "base_uri": "https://localhost:8080/",
     "height": 652
    },
    "id": "aqZ74wu0J6dI",
    "outputId": "9a7ebe8c-314a-41c0-b0e7-ca8c8e9ffe5d"
   },
   "outputs": [],
   "source": [
    "ggplot(df,aes(x=revol_util))+\n",
    "  geom_density(fill = \"indianred3\") +\n",
    "  labs(title = \"Revolving Utilization\")"
   ]
  },
  {
   "cell_type": "code",
   "execution_count": null,
   "metadata": {
    "id": "9_c-j0x3J8Qp"
   },
   "outputs": [],
   "source": [
    "plotdata <- df %>%\n",
    "  count(term) %>%\n",
    "  arrange(desc(term)) %>%\n",
    "  mutate(prop = round(n * 100 / sum(n), 1),\n",
    "         lab.ypos = cumsum(prop) - 0.5  *prop)"
   ]
  },
  {
   "cell_type": "code",
   "execution_count": null,
   "metadata": {
    "colab": {
     "base_uri": "https://localhost:8080/",
     "height": 617
    },
    "id": "Tl66Be7jJ-Oz",
    "outputId": "c1b9e1cd-43bd-472e-d01a-2102f94b70a1"
   },
   "outputs": [],
   "source": [
    "ggplot(plotdata, \n",
    "       aes(x = \"\", \n",
    "           y = prop, \n",
    "           fill = term)) +\n",
    "  geom_bar(width = 1, \n",
    "           stat = \"identity\", \n",
    "           color = \"black\") +\n",
    "  coord_polar(\"y\", \n",
    "              start = 0, \n",
    "              direction = -1) +\n",
    "  theme_void()"
   ]
  },
  {
   "cell_type": "code",
   "execution_count": null,
   "metadata": {
    "colab": {
     "base_uri": "https://localhost:8080/",
     "height": 617
    },
    "id": "nekjE1O1KC1H",
    "outputId": "9d9d1da6-6e79-4fe5-a115-7acd1e4fb5c2"
   },
   "outputs": [],
   "source": [
    "ggplot(df, aes(x = term)) + \n",
    "  geom_bar()"
   ]
  },
  {
   "cell_type": "code",
   "execution_count": null,
   "metadata": {
    "colab": {
     "base_uri": "https://localhost:8080/",
     "height": 617
    },
    "id": "XR-JQO-uKEd4",
    "outputId": "c1e84d4d-4e5b-4daa-c819-0c4a9e53ce38"
   },
   "outputs": [],
   "source": [
    "ggplot(df, aes(x = emp_length))+\n",
    "  geom_bar()"
   ]
  },
  {
   "cell_type": "code",
   "execution_count": null,
   "metadata": {
    "colab": {
     "base_uri": "https://localhost:8080/",
     "height": 617
    },
    "id": "5u-rciFGKGB6",
    "outputId": "e03d6f63-8f00-42dd-b270-8d3c4105d2d5"
   },
   "outputs": [],
   "source": [
    "ggplot(df, aes(x = home_ownership))+\n",
    "  geom_bar()"
   ]
  },
  {
   "cell_type": "code",
   "execution_count": null,
   "metadata": {
    "colab": {
     "base_uri": "https://localhost:8080/",
     "height": 617
    },
    "id": "eEZFlHP1KHae",
    "outputId": "b72a3939-06e0-47ed-8aa2-1b4618f56add"
   },
   "outputs": [],
   "source": [
    "ggplot(df, aes(x = verification_status))+\n",
    "  geom_bar()"
   ]
  },
  {
   "cell_type": "code",
   "execution_count": null,
   "metadata": {
    "colab": {
     "base_uri": "https://localhost:8080/",
     "height": 617
    },
    "id": "0LQGB1TlKJ6x",
    "outputId": "424dbf79-f1e2-4607-b2e9-16ea91d69bf2"
   },
   "outputs": [],
   "source": [
    "ggplot(df, aes(x = loan_status))+\n",
    "  geom_bar()"
   ]
  },
  {
   "cell_type": "code",
   "execution_count": null,
   "metadata": {
    "colab": {
     "base_uri": "https://localhost:8080/",
     "height": 617
    },
    "id": "7Cix7pDEKLfe",
    "outputId": "100ea20f-c190-47bd-f711-760a506a6ab2"
   },
   "outputs": [],
   "source": [
    "ggplot(df, aes(x = purpose))+\n",
    "  geom_bar()\n",
    "library(ggplot2)\n"
   ]
  },
  {
   "cell_type": "code",
   "execution_count": null,
   "metadata": {
    "colab": {
     "base_uri": "https://localhost:8080/",
     "height": 617
    },
    "id": "JZ73WtiNKOLR",
    "outputId": "472dc562-4551-4da7-9962-fe8a68f59806"
   },
   "outputs": [],
   "source": [
    "ggplot(df,\n",
    "       aes(x = loan_amnt, \n",
    "           y = int_rate ))+\n",
    "  geom_point()"
   ]
  },
  {
   "cell_type": "code",
   "execution_count": null,
   "metadata": {
    "colab": {
     "base_uri": "https://localhost:8080/",
     "height": 617
    },
    "id": "9rZNsi3SYn5X",
    "outputId": "e4b06372-352f-4e83-f8f6-78b546b7a4f9"
   },
   "outputs": [],
   "source": [
    "ggplot(df,\n",
    "        aes(x =loan_amnt,\n",
    "             y=int_rate ))+\n",
    "    geom_point()"
   ]
  },
  {
   "cell_type": "code",
   "execution_count": null,
   "metadata": {
    "colab": {
     "base_uri": "https://localhost:8080/",
     "height": 652
    },
    "id": "pXREobL2KQUq",
    "outputId": "b19005fe-a49d-4a78-bd34-59d21b99d932"
   },
   "outputs": [],
   "source": [
    "ggplot(df,\n",
    "       aes(x = loan_amnt,\n",
    "           y = term))+\n",
    "    geom_point(color=\"steelblue\")+\n",
    "    geom_smooth(method= \"lm\")"
   ]
  },
  {
   "cell_type": "code",
   "execution_count": null,
   "metadata": {
    "colab": {
     "base_uri": "https://localhost:8080/",
     "height": 652
    },
    "id": "_kKD1tPaK6ET",
    "outputId": "90e321cc-f10e-4627-bf8a-9cc6ae6a7a76"
   },
   "outputs": [],
   "source": [
    "ggplot(df,\n",
    "       aes(x = int_rate,\n",
    "           y = term))+\n",
    "  geom_point(color=\"steelblue\")+\n",
    "  geom_smooth(method= \"lm\") "
   ]
  },
  {
   "cell_type": "code",
   "execution_count": null,
   "metadata": {
    "colab": {
     "base_uri": "https://localhost:8080/",
     "height": 1000
    },
    "id": "7IpKeT4KK8kV",
    "outputId": "21ddeed3-60eb-4e99-cbb3-5fe6da59e787"
   },
   "outputs": [],
   "source": [
    "ggplot(df,\n",
    "       aes(x = int_rate,\n",
    "           y = annul_inc))+\n",
    "           geom_point()"
   ]
  },
  {
   "cell_type": "code",
   "execution_count": null,
   "metadata": {
    "colab": {
     "base_uri": "https://localhost:8080/",
     "height": 217
    },
    "id": "N7lurAqTNJ6k",
    "outputId": "a80f47d6-d88c-48e5-eac8-ba076546ae66"
   },
   "outputs": [],
   "source": [
    "library(superheat)\n",
    "superheat(df,\n",
    "          scale=TRUE,\n",
    "          left.label.text.size=3,\n",
    "          bottom.label.text.size=3,\n",
    "          row.dendrogram=TRUE)"
   ]
  },
  {
   "cell_type": "code",
   "execution_count": null,
   "metadata": {
    "colab": {
     "base_uri": "https://localhost:8080/",
     "height": 234
    },
    "id": "SbBFw-1VNaiH",
    "outputId": "6a2ab483-aae3-4c10-bf26-cf91aae7ad24"
   },
   "outputs": [],
   "source": [
    "data(df)\n",
    "superheat(df,scale=TRUE)"
   ]
  },
  {
   "cell_type": "code",
   "execution_count": null,
   "metadata": {
    "colab": {
     "base_uri": "https://localhost:8080/",
     "height": 617
    },
    "id": "ALR5HYuWPJpY",
    "outputId": "9b028a12-c3af-4e75-f1eb-bf05c378436c"
   },
   "outputs": [],
   "source": [
    "ggplot(df,\n",
    "       aes(x=loan_status,\n",
    "           y=loan_amnt))+\n",
    "  geom_bar(stat=\"identity\")"
   ]
  },
  {
   "cell_type": "code",
   "execution_count": null,
   "metadata": {
    "colab": {
     "base_uri": "https://localhost:8080/",
     "height": 617
    },
    "id": "eVCNnha7Ukx_",
    "outputId": "d46c8245-1777-4301-a57e-d545901d926c"
   },
   "outputs": [],
   "source": [
    "ggplot(df,\n",
    "       aes(x=loan_status,\n",
    "           y=int_rate))+\n",
    "  geom_bar(stat=\"identity\")"
   ]
  },
  {
   "cell_type": "code",
   "execution_count": null,
   "metadata": {
    "colab": {
     "base_uri": "https://localhost:8080/",
     "height": 1000
    },
    "id": "K0IxddWKUniX",
    "outputId": "af7864c8-9ab3-43f6-a7eb-c36fb6858c99"
   },
   "outputs": [],
   "source": [
    "ggplot(df,\n",
    "       aes(x=loan_status,\n",
    "           y=term))+\n",
    "  geom_bar(stat=\"identity\")  \n",
    "ggplot(df,\n",
    "       aes(x=loan_status,\n",
    "           y=term))+\n",
    "  geom_boxplot()+\n",
    "  labs(title=\"Term w.r.t Loan Status\")"
   ]
  },
  {
   "cell_type": "code",
   "execution_count": null,
   "metadata": {
    "colab": {
     "base_uri": "https://localhost:8080/",
     "height": 617
    },
    "id": "2Q-UH3dIUpxh",
    "outputId": "fd7294e5-b655-4a53-9e5b-6730ba5ab885"
   },
   "outputs": [],
   "source": [
    "ggplot(df,\n",
    "       aes(x=loan_status,\n",
    "           y=int_rate))+\n",
    "  geom_boxplot()+\n",
    "  labs(title=\"Rate of INterest\")"
   ]
  },
  {
   "cell_type": "code",
   "execution_count": null,
   "metadata": {
    "colab": {
     "base_uri": "https://localhost:8080/",
     "height": 617
    },
    "id": "vTNFsaihUt06",
    "outputId": "7c1c2ac7-0ac9-44dd-9e4c-abf6a64c861c"
   },
   "outputs": [],
   "source": [
    "ggplot(df, \n",
    "         aes(x = loan_status,\n",
    "             y = int_rate))+\n",
    "    geom_boxplot()+\n",
    "    labs(title = \"RAte of Interest w.r.t Loan Status\")"
   ]
  },
  {
   "cell_type": "code",
   "execution_count": null,
   "metadata": {
    "colab": {
     "base_uri": "https://localhost:8080/",
     "height": 617
    },
    "id": "8x47g3HYVGYF",
    "outputId": "07e52336-6aed-4e21-ba89-8a14b48daedd"
   },
   "outputs": [],
   "source": [
    "ggplot(df,\n",
    "      aes(x= loan_status,\n",
    "          y= int_rate))+\n",
    "  geom_violin()+\n",
    "  labs(title= \"Loanstatus distribution by ROI\")"
   ]
  },
  {
   "cell_type": "code",
   "execution_count": null,
   "metadata": {
    "colab": {
     "base_uri": "https://localhost:8080/",
     "height": 617
    },
    "id": "r7HofWk5VyuR",
    "outputId": "069d2348-1d1e-43d2-fb27-26269a0f9093"
   },
   "outputs": [],
   "source": [
    "ggplot(df,\n",
    "      aes(x= loan_status,\n",
    "          y= loan_amnt))+\n",
    "  geom_violin()+\n",
    "  labs(title= \"Loanstatus distribution by Loan Amount\")"
   ]
  },
  {
   "cell_type": "code",
   "execution_count": null,
   "metadata": {
    "colab": {
     "base_uri": "https://localhost:8080/",
     "height": 617
    },
    "id": "yGNJX8c-V0uN",
    "outputId": "18511c3e-4acb-4b9d-9ed5-d2d209926d91"
   },
   "outputs": [],
   "source": [
    "ggplot(df,\n",
    "      aes(x= loan_status,\n",
    "          y= installment))+\n",
    "  geom_violin()+\n",
    "  labs(title= \"Loanstatus distribution by Installment\") "
   ]
  },
  {
   "cell_type": "code",
   "execution_count": null,
   "metadata": {
    "colab": {
     "base_uri": "https://localhost:8080/",
     "height": 617
    },
    "id": "bZNrvXtvV23M",
    "outputId": "deed2c5d-56ec-498a-d144-bffb04cd6775"
   },
   "outputs": [],
   "source": [
    "ggplot(df,\n",
    "      aes(x= loan_status,\n",
    "          y= installment))+\n",
    "  geom_violin()+\n",
    "  labs(title= \"Loanstatus distribution by Installment\") "
   ]
  },
  {
   "cell_type": "code",
   "execution_count": null,
   "metadata": {
    "colab": {
     "base_uri": "https://localhost:8080/",
     "height": 96
    },
    "id": "kWHCzvUqWADq",
    "outputId": "b0fbff53-dc8e-4005-b604-0f04581348bb"
   },
   "outputs": [],
   "source": [
    "ggcorrplot(df,\n",
    "           hc.order=TRUE,\n",
    "           type=\"lower\",\n",
    "           lab=TRUE)"
   ]
  },
  {
   "cell_type": "code",
   "execution_count": null,
   "metadata": {
    "colab": {
     "base_uri": "https://localhost:8080/",
     "height": 200
    },
    "id": "dwUEG3QgWCMp",
    "outputId": "de7e1195-6e3e-4277-f4a2-d44924214a1e"
   },
   "outputs": [],
   "source": [
    "superheat(df,scale =TRUE)"
   ]
  },
  {
   "cell_type": "code",
   "execution_count": null,
   "metadata": {
    "colab": {
     "base_uri": "https://localhost:8080/",
     "height": 507
    },
    "id": "DO2JBSdnWa9D",
    "outputId": "28cc30ea-8066-4439-8ead-3e5f65a718ac"
   },
   "outputs": [],
   "source": [
    "names(df)\n",
    "df_numeric <- c( \"loan_amnt\",\"term\" ,\"int_rate\",\"installment\" ,\"emp_length\",\"annual_inc\")\n",
    "df_numeric\n",
    "df%>%\n",
    "select(df_numeric)%>%\n",
    "head(5)\n",
    "superheat(df_numeric, scale = TRUE)\n",
    "data(df_numeric)\n",
    "superheat(df_numeric, scale = TRUE)"
   ]
  },
  {
   "cell_type": "code",
   "execution_count": null,
   "metadata": {
    "colab": {
     "base_uri": "https://localhost:8080/",
     "height": 217
    },
    "id": "8-3CTIYUWibJ",
    "outputId": "64b3f330-f8b6-44b7-a914-f04134a16e59"
   },
   "outputs": [],
   "source": [
    "superheat(df,\n",
    "          scale = TRUE,\n",
    "          left.label.text.size = 3,\n",
    "          bottom.label.text.size = 3,\n",
    "          bottom.label.size = .05,\n",
    "          row.dendrogram = TRUE)"
   ]
  },
  {
   "cell_type": "code",
   "execution_count": null,
   "metadata": {
    "colab": {
     "base_uri": "https://localhost:8080/",
     "height": 617
    },
    "id": "ua6eWLt6WkcV",
    "outputId": "e18a2df1-47c8-488b-b3e8-c21ea0495fad"
   },
   "outputs": [],
   "source": [
    "ggplot(df,\n",
    "       aes(x=loan_status,\n",
    "           y=int_rate))+\n",
    "         geom_boxplot()+\n",
    "         labs(title=\"Rate of INterest\")"
   ]
  },
  {
   "cell_type": "code",
   "execution_count": null,
   "metadata": {
    "colab": {
     "base_uri": "https://localhost:8080/",
     "height": 617
    },
    "id": "NpX1HL8oWmdl",
    "outputId": "d1011df0-c856-4012-d971-fbb5b0860dde"
   },
   "outputs": [],
   "source": [
    "df%>%ggplot(aes(x=emp_length))+\n",
    "  geom_line(aes(y=home_ownership))+\n",
    "  geom_line(aes(y=verification_status),color=\"blue\")"
   ]
  },
  {
   "cell_type": "code",
   "execution_count": null,
   "metadata": {
    "colab": {
     "base_uri": "https://localhost:8080/",
     "height": 1000
    },
    "id": "GHWPMFpqWoDI",
    "outputId": "8093ff72-de5b-444b-9d6c-052ca3953f27"
   },
   "outputs": [],
   "source": [
    "df%>% gather(loan_status,home_ownership,verification_status,purpose)%>%\n",
    "  ggplot(aes(x =term , y=value))+geom_line()+\n",
    "  facet_grid(key ~.)"
   ]
  },
  {
   "cell_type": "code",
   "execution_count": null,
   "metadata": {
    "colab": {
     "base_uri": "https://localhost:8080/",
     "height": 652
    },
    "id": "1sFioAu3WqAv",
    "outputId": "140ab674-b884-4259-de10-9b19a14278a4"
   },
   "outputs": [],
   "source": [
    "df %>% ggplot(aes(x =verification_status,y=loan_amnt))+\n",
    "  geom_point()+geom_smooth()"
   ]
  },
  {
   "cell_type": "code",
   "execution_count": null,
   "metadata": {
    "id": "g48w6uHGWv8a"
   },
   "outputs": [],
   "source": []
  }
 ],
 "metadata": {
  "colab": {
   "name": "Loan_Prediction_Assignment_For_R",
   "provenance": []
  },
  "kernelspec": {
   "display_name": "Python 3 (ipykernel)",
   "language": "python",
   "name": "python3"
  },
  "language_info": {
   "codemirror_mode": {
    "name": "ipython",
    "version": 3
   },
   "file_extension": ".py",
   "mimetype": "text/x-python",
   "name": "python",
   "nbconvert_exporter": "python",
   "pygments_lexer": "ipython3",
   "version": "3.10.1"
  }
 },
 "nbformat": 4,
 "nbformat_minor": 1
}
