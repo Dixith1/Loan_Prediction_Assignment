{
 "cells": [
  {
   "cell_type": "code",
   "execution_count": null,
   "id": "b0a26736",
   "metadata": {},
   "outputs": [],
   "source": [
    "! pip list\n",
    "! pip install seaborn\n",
    "! pip install pandas-profiling\n",
    "! pip install autoviz\n",
    "! pip install sweetviz\n",
    "! pip install pandas_profiling --upgrade"
   ]
  },
  {
   "cell_type": "code",
   "execution_count": null,
   "id": "efbe98f6",
   "metadata": {},
   "outputs": [],
   "source": [
    "import pandas as pd\n",
    "import numpy as np\n",
    "import os\n",
    "import matplotlib.pyplot as plt\n",
    "import datetime as dt\n",
    "import sys"
   ]
  },
  {
   "cell_type": "code",
   "execution_count": null,
   "id": "11318543",
   "metadata": {},
   "outputs": [],
   "source": [
    "import seaborn as sns"
   ]
  },
  {
   "cell_type": "code",
   "execution_count": null,
   "id": "eff05624",
   "metadata": {},
   "outputs": [],
   "source": [
    "os.listdir()"
   ]
  },
  {
   "cell_type": "code",
   "execution_count": null,
   "id": "8d8cd82c",
   "metadata": {},
   "outputs": [],
   "source": [
    "url = \"https://raw.githubusercontent.com/lemoinef/Loan-Default-Prediction/master/loans_2007.csv\"\n",
    "raw_data = pd.read_csv(url)"
   ]
  },
  {
   "cell_type": "code",
   "execution_count": null,
   "id": "a9c222b3",
   "metadata": {},
   "outputs": [],
   "source": [
    "raw_data.head()"
   ]
  },
  {
   "cell_type": "code",
   "execution_count": null,
   "id": "a2443847",
   "metadata": {},
   "outputs": [],
   "source": [
    "raw_data.to_csv(\"raw_loan_default.csv\",index=False)"
   ]
  },
  {
   "cell_type": "code",
   "execution_count": null,
   "id": "813e6b92",
   "metadata": {},
   "outputs": [],
   "source": [
    "raw_data.info()"
   ]
  },
  {
   "cell_type": "code",
   "execution_count": null,
   "id": "50bde860",
   "metadata": {},
   "outputs": [],
   "source": [
    "raw_data.shape"
   ]
  },
  {
   "cell_type": "code",
   "execution_count": null,
   "id": "d9354352",
   "metadata": {},
   "outputs": [],
   "source": [
    "raw_data.columns"
   ]
  },
  {
   "cell_type": "code",
   "execution_count": null,
   "id": "718c5af7",
   "metadata": {},
   "outputs": [],
   "source": [
    "features_1st_13_set = ['id','member_id','loan_amnt','funded_amnt','funded_amnt_inv','term',\n",
    "            'int_rate','installment','grade','sub_grade','emp_title','emp_length','home_ownership']"
   ]
  },
  {
   "cell_type": "code",
   "execution_count": null,
   "id": "2166afa0",
   "metadata": {},
   "outputs": [],
   "source": [
    "raw_data.loc[:5,features_1st_13_set]"
   ]
  },
  {
   "cell_type": "code",
   "execution_count": null,
   "id": "dfc43254",
   "metadata": {},
   "outputs": [],
   "source": [
    "drop_col_1st_set = ['id', 'member_id', 'funded_amnt', 'funded_amnt_inv', \n",
    "                              'grade', 'sub_grade', 'emp_title']"
   ]
  },
  {
   "cell_type": "code",
   "execution_count": null,
   "id": "6dbd1303",
   "metadata": {},
   "outputs": [],
   "source": [
    "features_2nd_13_set=['annual_inc', 'verification_status',\n",
    "       'issue_d', 'loan_status', 'pymnt_plan', 'purpose', 'title', 'zip_code',\n",
    "       'addr_state', 'dti', 'delinq_2yrs', 'earliest_cr_line',\n",
    "       'inq_last_6mths']"
   ]
  },
  {
   "cell_type": "code",
   "execution_count": null,
   "id": "a45e8695",
   "metadata": {},
   "outputs": [],
   "source": [
    "raw_data.loc[:5,features_2nd_13_set]"
   ]
  },
  {
   "cell_type": "code",
   "execution_count": null,
   "id": "7cd4a1f8",
   "metadata": {},
   "outputs": [],
   "source": [
    "drop_2nd_set=['issue_d','zip_code']"
   ]
  },
  {
   "cell_type": "code",
   "execution_count": null,
   "id": "90a317b9",
   "metadata": {},
   "outputs": [],
   "source": [
    "features_3rd_13_set=[ 'open_acc', 'pub_rec', 'revol_bal', 'revol_util',\n",
    "       'total_acc', 'initial_list_status', 'out_prncp', 'out_prncp_inv',\n",
    "       'total_pymnt', 'total_pymnt_inv', 'total_rec_prncp', 'total_rec_int',\n",
    "       'total_rec_late_fee']"
   ]
  },
  {
   "cell_type": "code",
   "execution_count": null,
   "id": "3488d639",
   "metadata": {},
   "outputs": [],
   "source": [
    "raw_data.loc[:5,features_3rd_13_set]"
   ]
  },
  {
   "cell_type": "code",
   "execution_count": null,
   "id": "526a6f63",
   "metadata": {},
   "outputs": [],
   "source": [
    "drop_col_3rd_set = ['out_prncp', 'out_prncp_inv', 'total_pymnt', 'total_pymnt_inv',\n",
    "                              'total_rec_prncp', 'total_rec_int', 'total_rec_late_fee']"
   ]
  },
  {
   "cell_type": "code",
   "execution_count": null,
   "id": "03dc7f64",
   "metadata": {},
   "outputs": [],
   "source": [
    "features_4th_13_set=['recoveries', 'collection_recovery_fee',\n",
    "       'last_pymnt_d', 'last_pymnt_amnt', 'last_credit_pull_d',\n",
    "       'collections_12_mths_ex_med', 'policy_code', 'application_type',\n",
    "       'acc_now_delinq', 'chargeoff_within_12_mths', 'delinq_amnt',\n",
    "       'pub_rec_bankruptcies', 'tax_liens']"
   ]
  },
  {
   "cell_type": "code",
   "execution_count": null,
   "id": "71f3ef3f",
   "metadata": {},
   "outputs": [],
   "source": [
    "raw_data.loc[:5,features_4th_13_set]"
   ]
  },
  {
   "cell_type": "code",
   "execution_count": null,
   "id": "f9cd9cb5",
   "metadata": {},
   "outputs": [],
   "source": [
    "drop_4th_set=['recoveries', 'collection_recovery_fee',\n",
    "       'last_pymnt_d', 'last_pymnt_amnt']\n"
   ]
  },
  {
   "cell_type": "code",
   "execution_count": null,
   "id": "8b40c299",
   "metadata": {},
   "outputs": [],
   "source": [
    "columns_to_drop = drop_col_1st_set+drop_4th_set +drop_col_3rd_set+drop_2nd_set"
   ]
  },
  {
   "cell_type": "code",
   "execution_count": null,
   "id": "0b479b92",
   "metadata": {},
   "outputs": [],
   "source": [
    "filtered_data=raw_data.drop(columns_to_drop , axis=1)"
   ]
  },
  {
   "cell_type": "code",
   "execution_count": null,
   "id": "d6cda59b",
   "metadata": {},
   "outputs": [],
   "source": [
    "filtered_data.head(2)"
   ]
  },
  {
   "cell_type": "code",
   "execution_count": null,
   "id": "293fab84",
   "metadata": {},
   "outputs": [],
   "source": [
    "filtered_data.shape"
   ]
  },
  {
   "cell_type": "code",
   "execution_count": null,
   "id": "f175601c",
   "metadata": {},
   "outputs": [],
   "source": [
    "filtered_data.info()"
   ]
  },
  {
   "cell_type": "code",
   "execution_count": null,
   "id": "05f12f1a",
   "metadata": {},
   "outputs": [],
   "source": [
    "filtered_data.to_csv(\"filtered_loan_default.csv\" , index=False)"
   ]
  },
  {
   "cell_type": "code",
   "execution_count": null,
   "id": "f6204971",
   "metadata": {},
   "outputs": [],
   "source": [
    "filtered_data[\"loan_status\"].value_counts()"
   ]
  },
  {
   "cell_type": "code",
   "execution_count": null,
   "id": "f08bd9dc",
   "metadata": {},
   "outputs": [],
   "source": [
    "import matplotlib\n",
    "matplotlib.__version__"
   ]
  },
  {
   "cell_type": "code",
   "execution_count": null,
   "id": "013843e4",
   "metadata": {},
   "outputs": [],
   "source": [
    "pip install matplotlib==3.1.3"
   ]
  },
  {
   "cell_type": "code",
   "execution_count": null,
   "id": "b8376fa9",
   "metadata": {},
   "outputs": [],
   "source": [
    "plt.figure(figsize=(15,10))\n",
    "ax=sns.countplot(x=\"loan_status\", data=filtered_data,order =filtered_data[\"loan_status\"].value_counts().index)\n",
    "plt.title(\"Horizontal Bar Plot for Loan Status\")\n",
    "plt.xticks(rotation=270)\n",
    "plt.show()"
   ]
  },
  {
   "cell_type": "code",
   "execution_count": null,
   "id": "25a657e9",
   "metadata": {},
   "outputs": [],
   "source": [
    "plt.figure(figsize=(15,10))\n",
    "sns.countplot(x=\"loan_status\",data=filtered_data,\n",
    "              order = filtered_data[\"loan_status\"].value_counts(ascending=True).index)\n",
    "plt.title(\"Vertical Bar Plot of the Loan Status\")\n",
    "plt.xticks(rotation=270)\n",
    "plt.show()"
   ]
  },
  {
   "cell_type": "code",
   "execution_count": null,
   "id": "1c2113a1",
   "metadata": {},
   "outputs": [],
   "source": [
    "df = filtered_data[filtered_data['loan_status'].isin([\"Fully Paid\",\"Charged Off\"])]"
   ]
  },
  {
   "cell_type": "code",
   "execution_count": null,
   "id": "3f7f63fb",
   "metadata": {},
   "outputs": [],
   "source": [
    "df1 = filtered_data[filtered_data['loan_status'].isin([\"Fully Paid\",\"Charged Off\",\"Current\", \"Default\"])]"
   ]
  },
  {
   "cell_type": "code",
   "execution_count": null,
   "id": "a20e2ce4",
   "metadata": {},
   "outputs": [],
   "source": [
    "df.to_csv(\"loan_data.csv\", index=False)"
   ]
  },
  {
   "cell_type": "code",
   "execution_count": null,
   "id": "acbca39e",
   "metadata": {},
   "outputs": [],
   "source": [
    "plt.figure(figsize=(12,8))\n",
    "sns.countplot(x=\"loan_status\", data=df,order=df[\"loan_status\"].value_counts(ascending=True).index)\n",
    "plt.title(\"Loan Status Plot\")\n",
    "plt.show()"
   ]
  },
  {
   "cell_type": "code",
   "execution_count": null,
   "id": "0b30255d",
   "metadata": {},
   "outputs": [],
   "source": [
    "df[\"loan_status\"].value_counts()"
   ]
  },
  {
   "cell_type": "code",
   "execution_count": null,
   "id": "d0633cbc",
   "metadata": {},
   "outputs": [],
   "source": [
    "df1[\"loan_status\"].value_counts()"
   ]
  },
  {
   "cell_type": "code",
   "execution_count": null,
   "id": "fa284dc1",
   "metadata": {},
   "outputs": [],
   "source": [
    "import pandas_profiling\n",
    "profile  = pandas_profiling.ProfileReport(filtered_data, title=\"Pandas Profiling Report\")\n",
    "profile.to_file(\"loan_default_profiling.html\")"
   ]
  },
  {
   "cell_type": "code",
   "execution_count": null,
   "id": "b5bc7e34",
   "metadata": {},
   "outputs": [],
   "source": [
    "import sweetviz\n",
    "my_report  = sweetviz.analyze(filtered_data)\n",
    "my_report.show_html('FinalReport.html')"
   ]
  },
  {
   "cell_type": "code",
   "execution_count": null,
   "id": "94381198",
   "metadata": {},
   "outputs": [],
   "source": [
    "df.describe(include =np.object)"
   ]
  },
  {
   "cell_type": "code",
   "execution_count": null,
   "id": "b787ef5e",
   "metadata": {},
   "outputs": [],
   "source": [
    "df.describe()"
   ]
  },
  {
   "cell_type": "code",
   "execution_count": null,
   "id": "353af0e8",
   "metadata": {},
   "outputs": [],
   "source": [
    "orig_columns=df.columns\n",
    "drop_columns=[]\n",
    "for col in orig_columns:\n",
    "    col_series=df[col].dropna().unique()\n",
    "    if len(col_series) ==1:\n",
    "        drop_columns.append(col)\n",
    "df=df.drop(drop_columns, axis=1)\n",
    "drop_columns"
   ]
  },
  {
   "cell_type": "code",
   "execution_count": null,
   "id": "d04175a4",
   "metadata": {},
   "outputs": [],
   "source": [
    "df.shape"
   ]
  },
  {
   "cell_type": "code",
   "execution_count": null,
   "id": "d8b2794c",
   "metadata": {},
   "outputs": [],
   "source": [
    "null_count=df.isnull().sum()"
   ]
  },
  {
   "cell_type": "code",
   "execution_count": null,
   "id": "ca4a93eb",
   "metadata": {},
   "outputs": [],
   "source": [
    "null_count"
   ]
  },
  {
   "cell_type": "code",
   "execution_count": null,
   "id": "75081b0c",
   "metadata": {},
   "outputs": [],
   "source": [
    "df=df.drop(\"pub_rec_bankruptcies\" , axis=1)\n",
    "df=df.dropna(axis=0)"
   ]
  },
  {
   "cell_type": "code",
   "execution_count": null,
   "id": "167282b9",
   "metadata": {},
   "outputs": [],
   "source": [
    "null_count=df.isnull().sum()\n",
    "null_count"
   ]
  },
  {
   "cell_type": "code",
   "execution_count": null,
   "id": "57b47dad",
   "metadata": {},
   "outputs": [],
   "source": [
    "print(df.dtypes.value_counts())"
   ]
  },
  {
   "cell_type": "code",
   "execution_count": null,
   "id": "96fd0635",
   "metadata": {},
   "outputs": [],
   "source": [
    "object_columns_df = df.select_dtypes(include=[\"object\"])\n",
    "object_columns_df.columns"
   ]
  },
  {
   "cell_type": "code",
   "execution_count": null,
   "id": "ff1bf79f",
   "metadata": {},
   "outputs": [],
   "source": [
    "object_columns_df.iloc[0]"
   ]
  },
  {
   "cell_type": "code",
   "execution_count": null,
   "id": "d5dc5a93",
   "metadata": {},
   "outputs": [],
   "source": [
    "columns = ['term', 'emp_length', 'home_ownership', 'verification_status', 'addr_state']\n",
    "for col in columns:\n",
    "    print(df[col].value_counts())\n",
    "    print(\" \")"
   ]
  },
  {
   "cell_type": "code",
   "execution_count": null,
   "id": "5fde9a4e",
   "metadata": {},
   "outputs": [],
   "source": [
    "print(df[\"purpose\"].value_counts())\n",
    "print(\" \")\n",
    "print(df[\"title\"].value_counts())"
   ]
  },
  {
   "cell_type": "code",
   "execution_count": null,
   "id": "a98203e0",
   "metadata": {},
   "outputs": [],
   "source": [
    "mapping_dict = {\n",
    "    \"emp_length\": {\n",
    "        \"10+ years\": 10,\n",
    "        \"9 years\": 9,\n",
    "        \"8 years\": 8,\n",
    "        \"7 years\": 7,\n",
    "        \"6 years\": 6,\n",
    "        \"5 years\": 5,\n",
    "        \"4 years\": 4,\n",
    "        \"3 years\": 3,\n",
    "        \"2 years\": 2,\n",
    "        \"1 year\": 1,\n",
    "        \"< 1 year\": 0,\n",
    "        \"n/a\": 0\n",
    "    }\n",
    "}"
   ]
  },
  {
   "cell_type": "code",
   "execution_count": null,
   "id": "4b07a409",
   "metadata": {},
   "outputs": [],
   "source": [
    "df = df.drop([\"last_credit_pull_d\", \"earliest_cr_line\", \"addr_state\", \"title\"], axis=1)"
   ]
  },
  {
   "cell_type": "code",
   "execution_count": null,
   "id": "25d30bcd",
   "metadata": {},
   "outputs": [],
   "source": [
    "df[\"int_rate\"]=df[\"int_rate\"].str.rstrip(\"%\").astype(\"float\")"
   ]
  },
  {
   "cell_type": "code",
   "execution_count": null,
   "id": "0e367180",
   "metadata": {},
   "outputs": [],
   "source": [
    "# df[\"int_rate\"] = df[\"int_rate\"].apply(lambda x: float(x.replace(\"%\",\"\")))\n",
    "# df[\"int_rate\"] = df[\"int_rate\"].apply(lambda x: float(x.split(\"%\")[0]))"
   ]
  },
  {
   "cell_type": "code",
   "execution_count": null,
   "id": "b7c8c92e",
   "metadata": {},
   "outputs": [],
   "source": [
    "df[\"revol_util\"] = df[\"revol_util\"].str.rstrip(\"%\").astype(\"float\")\n",
    "df = df.replace(mapping_dict)"
   ]
  },
  {
   "cell_type": "code",
   "execution_count": null,
   "id": "1ca619ac",
   "metadata": {},
   "outputs": [],
   "source": [
    "df[\"term\"] = df[\"term\"].apply(lambda x: float(x.replace(\" months\",\"\")))"
   ]
  },
  {
   "cell_type": "code",
   "execution_count": null,
   "id": "cf76f4fb",
   "metadata": {},
   "outputs": [],
   "source": [
    "df"
   ]
  },
  {
   "cell_type": "code",
   "execution_count": null,
   "id": "d2e886c1",
   "metadata": {},
   "outputs": [],
   "source": [
    "df_final=df.copy(deep=True)"
   ]
  },
  {
   "cell_type": "code",
   "execution_count": null,
   "id": "9aac8993",
   "metadata": {},
   "outputs": [],
   "source": [
    "df.info()"
   ]
  },
  {
   "cell_type": "code",
   "execution_count": null,
   "id": "c2b644a0",
   "metadata": {},
   "outputs": [],
   "source": [
    "categorical_columns = [\"home_ownership\", \"verification_status\", \"purpose\"]\n",
    "dummy_df = pd.get_dummies(df[categorical_columns])"
   ]
  },
  {
   "cell_type": "code",
   "execution_count": null,
   "id": "9bde1aa8",
   "metadata": {},
   "outputs": [],
   "source": [
    "dummy_df"
   ]
  },
  {
   "cell_type": "code",
   "execution_count": null,
   "id": "d02eb339",
   "metadata": {},
   "outputs": [],
   "source": [
    "df = pd.concat([df, dummy_df], axis=1)\n",
    "df = df.drop(categorical_columns, axis=1)"
   ]
  },
  {
   "cell_type": "code",
   "execution_count": null,
   "id": "10203a26",
   "metadata": {},
   "outputs": [],
   "source": [
    "df.head()"
   ]
  },
  {
   "cell_type": "code",
   "execution_count": null,
   "id": "535213f1",
   "metadata": {},
   "outputs": [],
   "source": [
    "plt.figure(figsize=(10,6))\n",
    "sns.boxplot(x='loan_amnt',data=df_final)\n",
    "plt.title(\"Boxplot of loan_amnt\")\n",
    "plt.show()"
   ]
  },
  {
   "cell_type": "code",
   "execution_count": null,
   "id": "1ee8c2c4",
   "metadata": {},
   "outputs": [],
   "source": [
    "Q1=df[\"loan_amnt\"].quantile(0.25)\n",
    "Q3=df[\"loan_amnt\"].quantile(0.75)\n",
    "IQR=Q3-Q1\n",
    "data_df=df[((df[\"loan_amnt\"] < ( Q1 -1.5 *IQR)) |(df['loan_amnt'] > (Q3 + 1.5 * IQR)))]"
   ]
  },
  {
   "cell_type": "code",
   "execution_count": null,
   "id": "2d8acdb3",
   "metadata": {},
   "outputs": [],
   "source": [
    "data_df"
   ]
  },
  {
   "cell_type": "code",
   "execution_count": null,
   "id": "e1988af0",
   "metadata": {},
   "outputs": [],
   "source": [
    "Q1=df_final[\"loan_amnt\"].quantile(0.25)\n",
    "Q3=df_final[\"loan_amnt\"].quantile(0.75)\n",
    "IQR=Q3-Q1\n",
    "data=df_final[((df_final[\"loan_amnt\"] < ( Q1 -1.5 *IQR)) |(df_final['loan_amnt'] > (Q3 + 1.5 * IQR)))]"
   ]
  },
  {
   "cell_type": "code",
   "execution_count": null,
   "id": "42b1b099",
   "metadata": {},
   "outputs": [],
   "source": [
    "data"
   ]
  },
  {
   "cell_type": "markdown",
   "id": "1ce73444",
   "metadata": {},
   "source": [
    "• Questions:\n",
    "\n",
    "1.Distribution of Numerical Attributes (distplot and histogram) a) Distribution of Loan Value /Loan Amount What is distribution of Loan Amount b) Interest Rate c) Instalment d) Annual Income e) Revol Balance f) Revol Utilization\n",
    "\n",
    "2.Unique and counts of Categorical attributes (Countplot,pie-chart) a) Term b) Employment Length c) Loan Status d) Home Ownership e) Verification Status f) Purpose/Title\n",
    "\n",
    "3.Relation between two numerical attributes (scatter Plot a) 6C2 a) What is the instalment with interest rate? b) How Interest rate is applied wrt Annual Income c) What are the instalments wrt to interest rates d) What is the loan amount wrt to interest rate e) What is the Loan amount sanctioned wrt Annual income\n",
    "\n",
    "4.Correlation Matrix is between numerical values Heat Map\n",
    "\n",
    "5.Relation between numerical and categorical values"
   ]
  },
  {
   "cell_type": "code",
   "execution_count": null,
   "id": "0da9bd2b",
   "metadata": {},
   "outputs": [],
   "source": [
    "#df_final[\"loan_amnt\"].value_counts()/\n",
    "\n",
    "(df_final.loan_amnt.value_counts()*100)/len(df_final)"
   ]
  },
  {
   "cell_type": "code",
   "execution_count": null,
   "id": "86bc6d80",
   "metadata": {},
   "outputs": [],
   "source": [
    "import matplotlib.pyplot as plt\n",
    "plt.title(\"Distribution of Loan Amount\")\n",
    "sns.histplot(data=df,x=\"loan_amnt\",bins=30, kde=True)\n",
    "plt.show()\n"
   ]
  },
  {
   "cell_type": "markdown",
   "id": "32b261e4",
   "metadata": {},
   "source": [
    "Insights: Maximun % of Loan amount is of Value 10000 which is 7%\n",
    "\n",
    "Top 5 Value of Loan AMount distribution %\n",
    "10000.0 7.160986 12000.0 5.954108 5000.0 5.112400 15000.0 4.819745 6000.0 4.796436"
   ]
  },
  {
   "cell_type": "code",
   "execution_count": null,
   "id": "c6d81d45",
   "metadata": {},
   "outputs": [],
   "source": [
    "(df_final.int_rate.value_counts()*100)/len(df_final)"
   ]
  },
  {
   "cell_type": "code",
   "execution_count": null,
   "id": "7c1ecf8c",
   "metadata": {},
   "outputs": [],
   "source": [
    "sns.histplot(data=df,x=\"int_rate\",bins=30, kde=True)\n",
    "plt.title(\"Distribution of Rate of INterest\")\n",
    "plt.show()\n"
   ]
  },
  {
   "cell_type": "markdown",
   "id": "3bbbb6d8",
   "metadata": {},
   "source": [
    "Insights:\n",
    "\n",
    "Maximun Loan was disbursed at 10% of Rate of intrest 2.41%..\n",
    "\n",
    "Top 5 Value of Rate of INterest 10.99 2.418937 % 13.49 2.115923 % 11.49 2.071895 % 7.51 1.957941 % 7.88 1.815498 %"
   ]
  },
  {
   "cell_type": "code",
   "execution_count": null,
   "id": "0125b54c",
   "metadata": {},
   "outputs": [],
   "source": [
    "df_final[\"annual_inc\"].value_counts()"
   ]
  },
  {
   "cell_type": "code",
   "execution_count": null,
   "id": "5bf9e962",
   "metadata": {},
   "outputs": [],
   "source": [
    "sns.histplot(data=df,x=\"annual_inc\",bins=30, kde=True)\n",
    "plt.title(\"Distribution of Annual income of Customers\")\n",
    "plt.show()"
   ]
  },
  {
   "cell_type": "markdown",
   "id": "a76cc0d9",
   "metadata": {},
   "source": [
    "Insights:\n",
    "\n",
    "3.8 % of Customer are with Annual income of 60000 who has taken the loan"
   ]
  },
  {
   "cell_type": "code",
   "execution_count": null,
   "id": "e3e9f3de",
   "metadata": {},
   "outputs": [],
   "source": [
    "df_final.head(2)"
   ]
  },
  {
   "cell_type": "code",
   "execution_count": null,
   "id": "9ae3d3c9",
   "metadata": {},
   "outputs": [],
   "source": [
    "sns.histplot(data=df,x=\"revol_bal\",bins=30, kde=True)\n",
    "plt.title(\"Distribution of Revolving Balance\")\n",
    "plt.show()"
   ]
  },
  {
   "cell_type": "code",
   "execution_count": null,
   "id": "8065ab98",
   "metadata": {},
   "outputs": [],
   "source": [
    "sns.histplot(data=df,x=\"revol_util\",bins=30, kde=True)\n",
    "plt.title(\"Distribution of Revolving Utilization\")\n",
    "plt.show()"
   ]
  },
  {
   "cell_type": "markdown",
   "id": "1dfdcd24",
   "metadata": {},
   "source": [
    "# 2. Unique and counts of Categorical attributes (Countplot,pie-chart)\n",
    "\n",
    "a) Term b) Employment Length c) Loan Status d) Home Ownership e) Verification Status f) Purpose/Title"
   ]
  },
  {
   "cell_type": "code",
   "execution_count": null,
   "id": "17ea6e35",
   "metadata": {},
   "outputs": [],
   "source": [
    "df_final[\"term\"].value_counts()*100/len(df_final)"
   ]
  },
  {
   "cell_type": "code",
   "execution_count": null,
   "id": "1f11fd75",
   "metadata": {},
   "outputs": [],
   "source": [
    "plt.figure(figsize=(3,3))\n",
    "sns.countplot(\"term\", data=df_final , order=df[\"term\"] . value_counts(ascending=False). index)\n",
    "plt.title(\"Vertical Bar Plot of Term in months\")\n",
    "plt.xticks(rotation=270)\n",
    "plt.show()"
   ]
  },
  {
   "cell_type": "code",
   "execution_count": null,
   "id": "c48b5a91",
   "metadata": {},
   "outputs": [],
   "source": [
    "df_final.head(2)"
   ]
  },
  {
   "cell_type": "code",
   "execution_count": null,
   "id": "b099f024",
   "metadata": {},
   "outputs": [],
   "source": [
    "df_final[\"emp_length\"].value_counts()*100/len(df_final)"
   ]
  },
  {
   "cell_type": "code",
   "execution_count": null,
   "id": "4ecd7250",
   "metadata": {},
   "outputs": [],
   "source": [
    "plt.figure(figsize=(8,5))\n",
    "sns.countplot(\"emp_length\", data=df_final , order=df[\"emp_length\"] . value_counts(ascending=False). index)\n",
    "plt.title(\"Vertical Bar Plot of Term in months\")\n",
    "plt.xticks(rotation=270)\n",
    "plt.show()"
   ]
  },
  {
   "cell_type": "markdown",
   "id": "3c707180",
   "metadata": {},
   "source": [
    "Insights:\n",
    "\n",
    "1. 23 % Customers with max Employee lenght takes the maximum loan 2.Customers with employee lenghts of an year stands 2nd top 11.8%\n",
    "\n",
    "Top 5 Employee lenght % taking loan\n",
    "\n",
    "10 23.013571 0 11.843468 2 11.361753 3 10.592562 4 8.880659"
   ]
  },
  {
   "cell_type": "code",
   "execution_count": null,
   "id": "b90a1c2e",
   "metadata": {},
   "outputs": [],
   "source": [
    "df[\"loan_status\"].value_counts()*100/len(df_final)"
   ]
  },
  {
   "cell_type": "code",
   "execution_count": null,
   "id": "fde9a681",
   "metadata": {},
   "outputs": [],
   "source": [
    "plt.figure(figsize=(5,3))\n",
    "sns.countplot(\"loan_status\", data=df_final , order=df[\"loan_status\"] . value_counts(ascending=False). index)\n",
    "plt.title(\"Plot for Loan Status\")\n",
    "plt.xticks(rotation=270)\n",
    "plt.show()"
   ]
  },
  {
   "cell_type": "code",
   "execution_count": null,
   "id": "e7d353ec",
   "metadata": {},
   "outputs": [],
   "source": [
    "#home_ownership\t\n",
    "df_final[\"home_ownership\"].value_counts()*100/len(df_final)"
   ]
  },
  {
   "cell_type": "code",
   "execution_count": null,
   "id": "598e4ae7",
   "metadata": {},
   "outputs": [],
   "source": [
    "plt.figure(figsize=(5,3))\n",
    "sns.countplot(\"home_ownership\", data=df_final , order=df_final[\"home_ownership\"] . value_counts(ascending=False). index)\n",
    "plt.title(\"Distribution of Home Ownership of Customers\")\n",
    "plt.xticks(rotation=270)\n",
    "plt.show()"
   ]
  },
  {
   "cell_type": "code",
   "execution_count": null,
   "id": "57bee5d1",
   "metadata": {},
   "outputs": [],
   "source": [
    "#e)\tVerification Status verification_status\n",
    "#f)\tPurpose/Title\n",
    "df_final[\"verification_status\"].value_counts()*100/len(df_final)"
   ]
  },
  {
   "cell_type": "code",
   "execution_count": null,
   "id": "fbcbbbf4",
   "metadata": {},
   "outputs": [],
   "source": [
    "plt.figure(figsize=(5,3))\n",
    "sns.countplot(\"verification_status\", data=df_final , order=df_final[\"verification_status\"] . value_counts(ascending=False). index)\n",
    "plt.title(\"Verification Status\")\n",
    "plt.xticks(rotation=270)\n",
    "plt.show()"
   ]
  },
  {
   "cell_type": "markdown",
   "id": "ec70c84a",
   "metadata": {},
   "source": [
    "Insights:\n",
    "\n",
    "Value of Customers Not verified is more stands at 42.6 %"
   ]
  },
  {
   "cell_type": "code",
   "execution_count": null,
   "id": "d14b3875",
   "metadata": {},
   "outputs": [],
   "source": [
    "df_final[\"purpose\"].value_counts()*100/len(df_final)"
   ]
  },
  {
   "cell_type": "code",
   "execution_count": null,
   "id": "08ee5da7",
   "metadata": {},
   "outputs": [],
   "source": [
    "plt.figure(figsize=(8,5))\n",
    "sns.countplot(\"purpose\", data=df_final , order=df_final[\"purpose\"] . value_counts(ascending=False). index)\n",
    "plt.title(\"Purpose of Loan\")\n",
    "plt.xticks(rotation=270)\n",
    "plt.show()"
   ]
  },
  {
   "cell_type": "markdown",
   "id": "f42ff0c4",
   "metadata": {},
   "source": [
    "# 3. Relation between two numerical attributes (scatter Plot)\n",
    "\n",
    "a) 6C2 a) Distribution of Loan Value /Loan Amount What is distribution of Loan Amount b) Interest Rate c) Instalment d) Annual Income e) Revol Balance f) Revol Utilization"
   ]
  },
  {
   "cell_type": "code",
   "execution_count": null,
   "id": "920416e4",
   "metadata": {},
   "outputs": [],
   "source": [
    "df_final.head(2)"
   ]
  },
  {
   "cell_type": "code",
   "execution_count": null,
   "id": "39f5f4b9",
   "metadata": {},
   "outputs": [],
   "source": [
    "ax = sns.violinplot(x=\"term\", y=\"loan_amnt\", data=df_final)"
   ]
  },
  {
   "cell_type": "code",
   "execution_count": null,
   "id": "a500a486",
   "metadata": {},
   "outputs": [],
   "source": [
    "ax = sns.violinplot(x=\"term\", y=\"emp_length\", data=df_final)"
   ]
  },
  {
   "cell_type": "code",
   "execution_count": null,
   "id": "2a34eea7",
   "metadata": {},
   "outputs": [],
   "source": [
    "plt.figure(figsize=(16,12))\n",
    "sns.barplot(data =df_final, x='purpose', y='loan_amnt')\n",
    "plt.title('Purpose of Loan vs Loan Amount')\n",
    "plt.show()"
   ]
  },
  {
   "cell_type": "code",
   "execution_count": null,
   "id": "42debaaf",
   "metadata": {},
   "outputs": [],
   "source": [
    "df_final.head(2)"
   ]
  },
  {
   "cell_type": "code",
   "execution_count": null,
   "id": "66bea895",
   "metadata": {},
   "outputs": [],
   "source": [
    "ax = sns.violinplot(x=\"term\", y=\"annual_inc\", data=df_final)"
   ]
  },
  {
   "cell_type": "markdown",
   "id": "56d4a5f2",
   "metadata": {},
   "source": [
    "1.Correlation Matrix is between numerical values"
   ]
  },
  {
   "cell_type": "code",
   "execution_count": null,
   "id": "1c16bf24",
   "metadata": {},
   "outputs": [],
   "source": [
    "df_final.head(2)"
   ]
  },
  {
   "cell_type": "code",
   "execution_count": null,
   "id": "855ed579",
   "metadata": {},
   "outputs": [],
   "source": [
    "df_final.columns"
   ]
  },
  {
   "cell_type": "code",
   "execution_count": null,
   "id": "cd4a1a25",
   "metadata": {},
   "outputs": [],
   "source": [
    "correlation_matrix=df_final[['loan_amnt', 'term', 'int_rate', 'installment', 'emp_length','revol_bal', 'revol_util','dti',]]"
   ]
  },
  {
   "cell_type": "code",
   "execution_count": null,
   "id": "78ed9535",
   "metadata": {},
   "outputs": [],
   "source": [
    "correlation_matrix"
   ]
  },
  {
   "cell_type": "code",
   "execution_count": null,
   "id": "7746db3e",
   "metadata": {},
   "outputs": [],
   "source": [
    "matrix=filtered_data.corr()\n",
    "print(\"Correlation matrix is : \")\n",
    "print(matrix)\n",
    "\n",
    "ax = sns.heatmap(correlation_matrix.corr(), annot=True)"
   ]
  },
  {
   "cell_type": "code",
   "execution_count": null,
   "id": "4f1e6f05",
   "metadata": {},
   "outputs": [],
   "source": [
    "plt.figure(figsize=(5,3))\n",
    "\n",
    "sns.barplot(y='emp_length', x='loan_status' , data=df_final )\n",
    "plt.title('Employee Lenght vs Loan Status ')\n",
    "plt.show()"
   ]
  },
  {
   "cell_type": "code",
   "execution_count": null,
   "id": "d23c9c28",
   "metadata": {},
   "outputs": [],
   "source": [
    "plt.figure(figsize=(5,3))\n",
    "\n",
    "sns.barplot(y='int_rate', x='loan_status' , data=df_final )\n",
    "plt.title('Rate of Interest vs Loan Status ')\n",
    "plt.show()"
   ]
  },
  {
   "cell_type": "code",
   "execution_count": null,
   "id": "24536f59",
   "metadata": {},
   "outputs": [],
   "source": [
    "plt.figure(figsize=(5,3))\n",
    "\n",
    "sns.barplot(y='annual_inc', x='loan_status' , data=df_final )\n",
    "plt.title('Annual Income vs Loan Status ')\n",
    "plt.show()"
   ]
  },
  {
   "cell_type": "code",
   "execution_count": null,
   "id": "e9d0aeab",
   "metadata": {},
   "outputs": [],
   "source": [
    "df_final.head(2)"
   ]
  },
  {
   "cell_type": "code",
   "execution_count": null,
   "id": "a040e0ec",
   "metadata": {},
   "outputs": [],
   "source": [
    "plt.figure(figsize=(20,10))\n",
    "\n",
    "sns.barplot(x='loan_status', y='emp_length' , data=df_final , hue=\"home_ownership\")\n",
    "plt.title('Employee Length vs Loan Amount ')\n",
    "plt.show()"
   ]
  },
  {
   "cell_type": "code",
   "execution_count": null,
   "id": "83479912",
   "metadata": {},
   "outputs": [],
   "source": [
    "plt.figure(figsize=(20,10))\n",
    "\n",
    "sns.barplot(x='loan_status', y='emp_length' , data=df_final , hue=\"verification_status\")\n",
    "plt.title('employee lenght vs Loan Status wrt verification status ')\n",
    "plt.show()"
   ]
  },
  {
   "cell_type": "code",
   "execution_count": null,
   "id": "ab62ab42",
   "metadata": {},
   "outputs": [],
   "source": [
    "plt.figure(figsize=(20,10))\n",
    "\n",
    "sns.barplot(x='loan_status', y='emp_length' , data=df_final , hue=\"purpose\")\n",
    "plt.title('employee lenght vs Loan Status wrt purpose ')\n",
    "plt.show()"
   ]
  },
  {
   "cell_type": "code",
   "execution_count": null,
   "id": "24482645",
   "metadata": {},
   "outputs": [],
   "source": [
    "plt.figure(figsize=(20,10))\n",
    "\n",
    "sns.barplot(x='loan_status', y='loan_amnt' , data=df_final , hue=\"home_ownership\")\n",
    "plt.title('Loan Staus  vs Loan amount with rest to Homeownership ')\n",
    "plt.show()"
   ]
  },
  {
   "cell_type": "code",
   "execution_count": null,
   "id": "06fda6bf",
   "metadata": {},
   "outputs": [],
   "source": [
    "plt.figure(figsize=(20,10))\n",
    "\n",
    "sns.barplot(x='loan_status', y='loan_amnt' , data=df_final , hue=\"purpose\")\n",
    "plt.title('Loan Status  vs Loan amount with rest to Purpose ')\n",
    "plt.show()"
   ]
  },
  {
   "cell_type": "code",
   "execution_count": null,
   "id": "1a7daae1",
   "metadata": {},
   "outputs": [],
   "source": [
    "plt.figure(figsize=(20,10))\n",
    "\n",
    "sns.barplot(x='loan_status', y='loan_amnt' , data=df_final , hue=\"verification_status\")\n",
    "plt.title('Loan Staus  vs Loan amount w.r.t Verification Status ')\n",
    "plt.show()"
   ]
  },
  {
   "cell_type": "code",
   "execution_count": null,
   "id": "a42c3a6b",
   "metadata": {},
   "outputs": [],
   "source": [
    "plt.figure(figsize=(20,10))\n",
    "\n",
    "sns.barplot(x='loan_status', y='int_rate' , data=df_final , hue=\"verification_status\")\n",
    "plt.title('Loan Status  vs Loan amount with rest to Purpose ')\n",
    "plt.show()"
   ]
  },
  {
   "cell_type": "code",
   "execution_count": null,
   "id": "fdace51f",
   "metadata": {},
   "outputs": [],
   "source": [
    "plt.figure(figsize=(20,10))\n",
    "\n",
    "sns.barplot(x='term', y='int_rate' , data=df_final , hue=\"loan_status\")\n",
    "plt.title('Term vs Rate of Interest ')\n",
    "plt.show()"
   ]
  },
  {
   "cell_type": "code",
   "execution_count": null,
   "id": "482a1904",
   "metadata": {},
   "outputs": [],
   "source": [
    "plt.figure(figsize=(20,10))\n",
    "\n",
    "sns.barplot(x='term', y='annual_inc' , data=df_final , hue=\"loan_status\")\n",
    "plt.title('Employee lenght vs Loan amount ')\n",
    "plt.show()"
   ]
  },
  {
   "cell_type": "code",
   "execution_count": null,
   "id": "6b16dc3d",
   "metadata": {},
   "outputs": [],
   "source": [
    "df_final.head(2)"
   ]
  },
  {
   "cell_type": "code",
   "execution_count": null,
   "id": "34b9f5a4",
   "metadata": {},
   "outputs": [],
   "source": [
    "plt.figure(figsize=(20,10))\n",
    "\n",
    "sns.barplot(x='emp_length', y='installment' , data=df_final , hue=\"loan_status\")\n",
    "plt.title('Employee lenght vs Loan amount ')\n",
    "plt.show()"
   ]
  },
  {
   "cell_type": "code",
   "execution_count": null,
   "id": "195c4d75",
   "metadata": {},
   "outputs": [],
   "source": [
    "df_final.head(2)"
   ]
  },
  {
   "cell_type": "code",
   "execution_count": null,
   "id": "940b615d",
   "metadata": {},
   "outputs": [],
   "source": [
    "df_final.groupby([\"emp_length\"])[\"loan_amnt\"].count().reset_index().sort_values(by=\"loan_amnt\", ascending=False)"
   ]
  },
  {
   "cell_type": "code",
   "execution_count": null,
   "id": "d4aef3a3",
   "metadata": {},
   "outputs": [],
   "source": [
    "df_final.groupby([\"loan_status\"])[\"loan_amnt\"].count().reset_index().sort_values(by=\"loan_amnt\", ascending=False)"
   ]
  },
  {
   "cell_type": "code",
   "execution_count": null,
   "id": "f313f721",
   "metadata": {},
   "outputs": [],
   "source": [
    "df_final.groupby([\"loan_status\"])[\"term\"].count().reset_index().sort_values(by=\"term\", ascending=False)"
   ]
  },
  {
   "cell_type": "code",
   "execution_count": null,
   "id": "3e6af605",
   "metadata": {},
   "outputs": [],
   "source": [
    "df_final.groupby([\"purpose\", \"verification_status\"])[\"loan_status\"].count().reset_index().sort_values(by=\"loan_status\", ascending=False)"
   ]
  },
  {
   "cell_type": "code",
   "execution_count": null,
   "id": "216fd9b6",
   "metadata": {},
   "outputs": [],
   "source": [
    "df_final.groupby([\"purpose\"])[\"loan_status\"].count().reset_index().sort_values(by=\"loan_status\", ascending=False)"
   ]
  },
  {
   "cell_type": "code",
   "execution_count": null,
   "id": "b16f23d8",
   "metadata": {},
   "outputs": [],
   "source": [
    "df_final.groupby([\"verification_status\"])[\"loan_status\"].count().reset_index().sort_values(by=\"loan_status\", ascending=False)"
   ]
  },
  {
   "cell_type": "code",
   "execution_count": null,
   "id": "d0c3bcc7",
   "metadata": {},
   "outputs": [],
   "source": [
    "verification_status_home_ownership_loan_status=df_final.groupby([\"verification_status\", \"home_ownership\"])[\"loan_status\"].count().reset_index().sort_values(by=\"loan_status\", ascending=False)"
   ]
  },
  {
   "cell_type": "code",
   "execution_count": null,
   "id": "24dd770e",
   "metadata": {},
   "outputs": [],
   "source": [
    "verification_status_home_ownership_loan_status"
   ]
  },
  {
   "cell_type": "code",
   "execution_count": null,
   "id": "a7a477d2",
   "metadata": {},
   "outputs": [],
   "source": [
    "df_final.groupby([\"verification_status\", \"home_ownership\", \"annual_inc\", \"int_rate\"])[\"loan_status\"].count().reset_index().sort_values(by=\"loan_status\", ascending=False)"
   ]
  },
  {
   "cell_type": "code",
   "execution_count": null,
   "id": "841cc527",
   "metadata": {},
   "outputs": [],
   "source": []
  }
 ],
 "metadata": {
  "kernelspec": {
   "display_name": "Python 3 (ipykernel)",
   "language": "python",
   "name": "python3"
  },
  "language_info": {
   "codemirror_mode": {
    "name": "ipython",
    "version": 3
   },
   "file_extension": ".py",
   "mimetype": "text/x-python",
   "name": "python",
   "nbconvert_exporter": "python",
   "pygments_lexer": "ipython3",
   "version": "3.10.1"
  }
 },
 "nbformat": 4,
 "nbformat_minor": 5
}
